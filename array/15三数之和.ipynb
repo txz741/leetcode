{
 "cells": [
  {
   "cell_type": "code",
   "execution_count": 2,
   "source": [
    "# 模仿两数之和的操作，定住第一个元素，对剩下的两个元素构建哈希表\r\n",
    "# 其实感觉这个本质上还是三重循环\r\n",
    "# 而且每次append都需要排序查看是否重复\r\n",
    "from typing import List\r\n",
    "class Solution:\r\n",
    "    def threeSum(self, nums: List[int]) -> List[List[int]]:\r\n",
    "        length = len(nums)\r\n",
    "        if length < 3:\r\n",
    "            return []\r\n",
    "\r\n",
    "        res = []\r\n",
    "\r\n",
    "        for i, n in enumerate(nums):\r\n",
    "            hashmap = dict()\r\n",
    "            for j in range(i + 1, length):\r\n",
    "                if -n - nums[j] in hashmap:\r\n",
    "                    temp = sorted([n, nums[j], hashmap[-n - nums[j]]])\r\n",
    "                    if temp in res:\r\n",
    "                        continue\r\n",
    "                    res.append(temp)\r\n",
    "                hashmap[nums[j]] = nums[j]\r\n",
    "        return res\r\n",
    "\r\n",
    "SS = Solution()\r\n",
    "res = SS.threeSum([-1, 0, 1, 2, -1, -4])\r\n",
    "print(res)\r\n"
   ],
   "outputs": [
    {
     "output_type": "stream",
     "name": "stdout",
     "text": [
      "[[-1, 0, 1], [-1, -1, 2]]\n"
     ]
    }
   ],
   "metadata": {}
  },
  {
   "cell_type": "code",
   "execution_count": 3,
   "source": [
    "# 尝试用双指针\r\n",
    "# 使用双指针的动机在于，对于升序排列的数组，固定第一个元素a，即第一层for循环，二三元素b和c的运动方向一定是相反的\r\n",
    "class Solution:\r\n",
    "    def threeSum(self, nums: List[int]) -> List[List[int]]:\r\n",
    "        nums.sort()\r\n",
    "        length = len(nums)\r\n",
    "        ans = []\r\n",
    "        for first in range(length):\r\n",
    "            if first > 0 and nums[first] == nums[first - 1]:\r\n",
    "                continue\r\n",
    "            target = -nums[first]\r\n",
    "            third = length - 1\r\n",
    "            for second in range(first + 1, length):\r\n",
    "                if second > first + 1 and nums[second] == nums[second - 1]:\r\n",
    "                    continue\r\n",
    "                while second < third and nums[second] + nums[third] > target:\r\n",
    "                    third -= 1\r\n",
    "                if second == third:\r\n",
    "                    break\r\n",
    "                if nums[second] + nums[third] == target:\r\n",
    "                    ans.append([nums[first], nums[second], nums[third]])\r\n",
    "        return ans\r\n",
    "\r\n",
    "\r\n",
    "SS = Solution()\r\n",
    "res = SS.threeSum([-1, 0, 1, 2, -1, -4])\r\n",
    "print(res)"
   ],
   "outputs": [
    {
     "output_type": "stream",
     "name": "stdout",
     "text": [
      "[[-1, -1, 2], [-1, 0, 1]]\n"
     ]
    }
   ],
   "metadata": {}
  }
 ],
 "metadata": {
  "orig_nbformat": 4,
  "language_info": {
   "name": "python",
   "version": "3.7.0",
   "mimetype": "text/x-python",
   "codemirror_mode": {
    "name": "ipython",
    "version": 3
   },
   "pygments_lexer": "ipython3",
   "nbconvert_exporter": "python",
   "file_extension": ".py"
  },
  "kernelspec": {
   "name": "python3",
   "display_name": "Python 3.7.0 64-bit ('torch': conda)"
  },
  "interpreter": {
   "hash": "21f885bd0b72b974cc085418a05d0c2978cd3d03e81191fda9f13e429c814bef"
  }
 },
 "nbformat": 4,
 "nbformat_minor": 2
}