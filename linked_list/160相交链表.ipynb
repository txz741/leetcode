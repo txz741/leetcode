{
 "cells": [
  {
   "cell_type": "code",
   "execution_count": null,
   "source": [
    "class ListNode:\r\n",
    "    def __init__(self, x):\r\n",
    "        self.val = x\r\n",
    "        self.next = None"
   ],
   "outputs": [],
   "metadata": {}
  },
  {
   "cell_type": "code",
   "execution_count": null,
   "source": [
    "# 很朴素的暴力方法，超时\r\n",
    "class Solution:\r\n",
    "    def getIntersectionNode(self, headA: ListNode,\r\n",
    "                            headB: ListNode) -> ListNode:\r\n",
    "        while headA:\r\n",
    "            temp = headB\r\n",
    "            while headB:\r\n",
    "                if headA == headB:\r\n",
    "                    return headA\r\n",
    "                headB = headB.next\r\n",
    "            headB = temp\r\n",
    "            headA = headA.next\r\n",
    "        return None"
   ],
   "outputs": [],
   "metadata": {}
  },
  {
   "cell_type": "code",
   "execution_count": null,
   "source": [
    "# hashmap\r\n",
    "class Solution:\r\n",
    "    def getIntersectionNode(self, headA: ListNode,\r\n",
    "                            headB: ListNode) -> ListNode:\r\n",
    "        hashmap = set()\r\n",
    "        while headA:\r\n",
    "            hashmap.add(headA)\r\n",
    "            headA = headA.next\r\n",
    "        while headB:\r\n",
    "            if headB in hashmap:\r\n",
    "                return headB\r\n",
    "            headB = headB.next\r\n",
    "        return None"
   ],
   "outputs": [],
   "metadata": {}
  },
  {
   "cell_type": "code",
   "execution_count": null,
   "source": [
    "# 一种双指针的操作\r\n",
    "class Solution:\r\n",
    "    def getIntersectionNode(self, headA: ListNode, headB: ListNode) -> ListNode:\r\n",
    "        PA, PB = headA, headB\r\n",
    "        while PA != PB:\r\n",
    "            if PA:\r\n",
    "                PA = PA.next\r\n",
    "            else:\r\n",
    "                PA = headB\r\n",
    "            if PB:\r\n",
    "                PB = PB.next\r\n",
    "            else:\r\n",
    "                PB = headA\r\n",
    "        return PA"
   ],
   "outputs": [],
   "metadata": {}
  }
 ],
 "metadata": {
  "orig_nbformat": 4,
  "language_info": {
   "name": "python"
  }
 },
 "nbformat": 4,
 "nbformat_minor": 2
}