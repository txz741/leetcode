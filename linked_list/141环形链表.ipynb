{
 "cells": [
  {
   "cell_type": "code",
   "execution_count": 4,
   "source": [
    "class ListNode:\r\n",
    "    def __init__(self, x) -> None:\r\n",
    "        self.val = x\r\n",
    "        self.next = None\r\n",
    "\r\n",
    "\r\n",
    "n1, n2, n3, n4 = ListNode(3), ListNode(2), ListNode(0), ListNode(4)\r\n",
    "n1.next = n2\r\n",
    "n2.next = n3\r\n",
    "n3.next = n4\r\n",
    "# n4.next = n2\r\n"
   ],
   "outputs": [],
   "metadata": {}
  },
  {
   "cell_type": "code",
   "execution_count": 5,
   "source": [
    "class Solution:\r\n",
    "    def hasCycle(self, head: ListNode) -> bool:\r\n",
    "        if not head or not head.next:\r\n",
    "            return False\r\n",
    "        slow, fast = head, head.next\r\n",
    "        while slow != fast:\r\n",
    "            if not fast or not fast.next:\r\n",
    "                return False\r\n",
    "            fast = fast.next.next\r\n",
    "            slow = slow.next\r\n",
    "        return True\r\n",
    "\r\n",
    "SS = Solution()\r\n",
    "print(SS.hasCycle(n1))"
   ],
   "outputs": [
    {
     "output_type": "stream",
     "name": "stdout",
     "text": [
      "False\n"
     ]
    }
   ],
   "metadata": {}
  },
  {
   "cell_type": "code",
   "execution_count": 8,
   "source": [
    "class Solution:\r\n",
    "    def hasCycle(self, head: ListNode) -> bool:\r\n",
    "        seen = set()\r\n",
    "        while head:\r\n",
    "            if head in seen:\r\n",
    "                return True\r\n",
    "            seen.add(head)\r\n",
    "            head = head.next\r\n",
    "        return False\r\n",
    "\r\n",
    "\r\n",
    "SS = Solution()\r\n",
    "print(SS.hasCycle(n1))"
   ],
   "outputs": [
    {
     "output_type": "stream",
     "name": "stdout",
     "text": [
      "False\n"
     ]
    }
   ],
   "metadata": {}
  }
 ],
 "metadata": {
  "orig_nbformat": 4,
  "language_info": {
   "name": "python",
   "version": "3.7.0",
   "mimetype": "text/x-python",
   "codemirror_mode": {
    "name": "ipython",
    "version": 3
   },
   "pygments_lexer": "ipython3",
   "nbconvert_exporter": "python",
   "file_extension": ".py"
  },
  "kernelspec": {
   "name": "python3",
   "display_name": "Python 3.7.0 64-bit ('torch': conda)"
  },
  "interpreter": {
   "hash": "21f885bd0b72b974cc085418a05d0c2978cd3d03e81191fda9f13e429c814bef"
  }
 },
 "nbformat": 4,
 "nbformat_minor": 2
}