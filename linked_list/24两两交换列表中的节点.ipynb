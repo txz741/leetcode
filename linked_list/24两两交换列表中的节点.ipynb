{
 "cells": [
  {
   "cell_type": "code",
   "execution_count": 23,
   "source": [
    "class ListNode:\r\n",
    "    def __init__(self, val=0, next=None):\r\n",
    "        self.val = val\r\n",
    "        self.next = next\r\n",
    "\r\n",
    "\r\n",
    "n1, n2, n3, n4 = ListNode(1), ListNode(2), ListNode(3), ListNode(4)\r\n",
    "n1.next = n2\r\n",
    "n2.next = n3\r\n",
    "n3.next = n4\r\n",
    "# n4.next = None"
   ],
   "outputs": [],
   "metadata": {}
  },
  {
   "cell_type": "code",
   "execution_count": 8,
   "source": [
    "class Solution:\r\n",
    "    def swapPairs(self, head: ListNode) -> ListNode:\r\n",
    "        d = ListNode()\r\n",
    "        d.next = head\r\n",
    "        curr = d\r\n",
    "        while curr.next and curr.next.next:\r\n",
    "            n1 = curr.next\r\n",
    "            n2 = curr.next.next\r\n",
    "            curr.next = n2\r\n",
    "            n1.next = n2.next\r\n",
    "            n2.next = n1\r\n",
    "            curr = n1\r\n",
    "        return d.next"
   ],
   "outputs": [],
   "metadata": {}
  },
  {
   "cell_type": "code",
   "execution_count": 24,
   "source": [
    "SS = Solution()\r\n",
    "res = SS.swapPairs(n1)\r\n",
    "while res:\r\n",
    "    print(res.val)\r\n",
    "    res = res.next"
   ],
   "outputs": [
    {
     "output_type": "stream",
     "name": "stdout",
     "text": [
      "2\n",
      "1\n",
      "4\n",
      "3\n"
     ]
    }
   ],
   "metadata": {}
  },
  {
   "cell_type": "code",
   "execution_count": null,
   "source": [],
   "outputs": [],
   "metadata": {}
  }
 ],
 "metadata": {
  "orig_nbformat": 4,
  "language_info": {
   "name": "python",
   "version": "3.7.0",
   "mimetype": "text/x-python",
   "codemirror_mode": {
    "name": "ipython",
    "version": 3
   },
   "pygments_lexer": "ipython3",
   "nbconvert_exporter": "python",
   "file_extension": ".py"
  },
  "kernelspec": {
   "name": "python3",
   "display_name": "Python 3.7.0 64-bit ('torch': conda)"
  },
  "interpreter": {
   "hash": "21f885bd0b72b974cc085418a05d0c2978cd3d03e81191fda9f13e429c814bef"
  }
 },
 "nbformat": 4,
 "nbformat_minor": 2
}