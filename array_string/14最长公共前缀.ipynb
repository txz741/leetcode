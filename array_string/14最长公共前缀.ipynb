{
 "cells": [
  {
   "cell_type": "code",
   "execution_count": null,
   "source": [
    "from typing import List\r\n",
    "# 字符串比较大小是根据字典序\r\n",
    "class Solution:\r\n",
    "    def longestCommonPrefix(self, strs: List[str]) -> str:\r\n",
    "        s1, s2 = min(strs), max(strs)\r\n",
    "        for i, s in enumerate(s1):\r\n",
    "            if s != s2[i]:\r\n",
    "                return s1[:i]\r\n",
    "\r\n",
    "        return s1"
   ],
   "outputs": [],
   "metadata": {}
  },
  {
   "cell_type": "code",
   "execution_count": null,
   "source": [
    "# 这里用到了一个很神奇的操作，zip(*strs)\r\n",
    "# 一般来说，zip的操作是对于多个列表，依次同时提取每个列表对应位置元素\r\n",
    "# 而zip(*)则是上面过程的反过程，这可以给人一种什么启示呢？其实这就相当于一个广义上的转置的操作\r\n",
    "# 而且zip和zip(*)的操作在遍历的时候如果有一个列表遍历完毕，其余的列表也都会停止遍历，从而得到的所有列表都是等长的\r\n",
    "\r\n",
    "# map的操作就是将第二个参数映射成第一个参数的type\r\n",
    "class Solution:\r\n",
    "    def longestCommonPrefix(self, strs: List[str]) -> str:\r\n",
    "        ss = list(map(set, zip(*strs)))\r\n",
    "        res = ''\r\n",
    "        for i, x in enumerate(ss):\r\n",
    "            x = list(x)\r\n",
    "            if len(x) > 1:\r\n",
    "                break\r\n",
    "            res += x[0]\r\n",
    "        return res\r\n"
   ],
   "outputs": [],
   "metadata": {}
  },
  {
   "cell_type": "code",
   "execution_count": 7,
   "source": [
    "# 关于zip和zip(*), 更详细的过程\r\n",
    "A, B, C = [1, 2, 3], [4, 5, 6], [7, 8, 9]\r\n",
    "print(list(zip(A, B, C)))\r\n",
    "D = [[1, 2, 3], [4, 5, 6], [7, 8, 9]]\r\n",
    "print(list(zip(*D)))\r\n",
    "# zip是多列表变一个大列表\r\n",
    "# zip(*)是一个大列表变多个列表"
   ],
   "outputs": [
    {
     "output_type": "stream",
     "name": "stdout",
     "text": [
      "[(1, 4, 7), (2, 5, 8), (3, 6, 9)]\n",
      "[(1, 4, 7), (2, 5, 8), (3, 6, 9)]\n"
     ]
    }
   ],
   "metadata": {}
  }
 ],
 "metadata": {
  "orig_nbformat": 4,
  "language_info": {
   "name": "python",
   "version": "3.7.0",
   "mimetype": "text/x-python",
   "codemirror_mode": {
    "name": "ipython",
    "version": 3
   },
   "pygments_lexer": "ipython3",
   "nbconvert_exporter": "python",
   "file_extension": ".py"
  },
  "kernelspec": {
   "name": "python3",
   "display_name": "Python 3.7.0 64-bit ('torch': conda)"
  },
  "interpreter": {
   "hash": "21f885bd0b72b974cc085418a05d0c2978cd3d03e81191fda9f13e429c814bef"
  }
 },
 "nbformat": 4,
 "nbformat_minor": 2
}