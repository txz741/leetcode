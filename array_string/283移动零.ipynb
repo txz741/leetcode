{
 "cells": [
  {
   "cell_type": "code",
   "execution_count": 1,
   "source": [
    "from typing import List\r\n",
    "class Solution:\r\n",
    "    def moveZeroes(self, nums: List[int]) -> None:\r\n",
    "        \"\"\"\r\n",
    "        Do not return anything, modify nums in-place instead.\r\n",
    "        \"\"\"\r\n",
    "        l = r = 0\r\n",
    "        length = len(nums)\r\n",
    "        for r in range(length):\r\n",
    "            if nums[r] != 0:\r\n",
    "                nums[l], nums[r] = nums[r], nums[l]\r\n",
    "                l += 1\r\n",
    "\r\n",
    "SS = Solution()\r\n",
    "nums = [1, 0, 4, 3, 2, 0, 6, 0, 4]\r\n",
    "SS.moveZeroes(nums)\r\n",
    "nums"
   ],
   "outputs": [
    {
     "output_type": "execute_result",
     "data": {
      "text/plain": [
       "[1, 4, 3, 2, 6, 4, 0, 0, 0]"
      ]
     },
     "metadata": {},
     "execution_count": 1
    }
   ],
   "metadata": {}
  }
 ],
 "metadata": {
  "orig_nbformat": 4,
  "language_info": {
   "name": "python",
   "version": "3.7.0",
   "mimetype": "text/x-python",
   "codemirror_mode": {
    "name": "ipython",
    "version": 3
   },
   "pygments_lexer": "ipython3",
   "nbconvert_exporter": "python",
   "file_extension": ".py"
  },
  "kernelspec": {
   "name": "python3",
   "display_name": "Python 3.7.0 64-bit ('torch': conda)"
  },
  "interpreter": {
   "hash": "21f885bd0b72b974cc085418a05d0c2978cd3d03e81191fda9f13e429c814bef"
  }
 },
 "nbformat": 4,
 "nbformat_minor": 2
}