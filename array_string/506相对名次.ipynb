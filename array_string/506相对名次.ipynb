{
 "cells": [
  {
   "cell_type": "code",
   "execution_count": null,
   "source": [
    "from typing import List\r\n",
    "# 通过构建哈希表的方法，将得分映射为最终的金银牌和名次，最后再根据原有的score数组来查找哈希表，不需要多次排序\r\n",
    "class Solution:\r\n",
    "    def findRelativeRanks(self, score: List[int]) -> List[str]:\r\n",
    "        vec = score.copy()\r\n",
    "        vec = sorted(vec, reverse=True)\r\n",
    "        hashmap = dict()\r\n",
    "        if len(vec) >= 1:\r\n",
    "            hashmap[vec[0]] = 'Gold Medal'\r\n",
    "        if len(vec) >= 2:\r\n",
    "            hashmap[vec[1]] = 'Silver Medal'\r\n",
    "        if len(vec) >= 3:\r\n",
    "            hashmap[vec[2]] = 'Bronze Medal'\r\n",
    "        for i in range(3, len(vec)):\r\n",
    "            hashmap[vec[i]] = str(i + 1)\r\n",
    "        res = []\r\n",
    "        for s in score:\r\n",
    "            res.append(hashmap[s])\r\n",
    "        return res"
   ],
   "outputs": [],
   "metadata": {}
  },
  {
   "cell_type": "code",
   "execution_count": null,
   "source": [
    "# 自己之前的实现方法，构建列表，列表元素为[score, index]\r\n",
    "# 先按得分降序，并将[score, index]的score变为金银牌和名次\r\n",
    "# 最后再按index升序\r\n",
    "class Solution:\r\n",
    "    def findRelativeRanks(self, score: List[int]) -> List[str]:\r\n",
    "        mylist = [[score[i], i] for i in range(len(score))]\r\n",
    "        mylist = sorted(mylist, key=lambda x: x[0], reverse=True)  # 按得分降序\r\n",
    "        mylist = [[str(i + 1), mylist[i][1]] for i in range(len(score))]\r\n",
    "        if len(mylist) >= 1:\r\n",
    "            mylist[0][0] = 'Gold Medal'\r\n",
    "        if len(mylist) >= 2:\r\n",
    "            mylist[1][0] = 'Silver Medal'\r\n",
    "        if len(mylist) >= 3:\r\n",
    "            mylist[2][0] = 'Bronze Medal'\r\n",
    "        mylist = sorted(mylist, key=lambda x: x[1])\r\n",
    "        score = [str(x[0]) for x in mylist]\r\n",
    "        return score"
   ],
   "outputs": [],
   "metadata": {}
  }
 ],
 "metadata": {
  "orig_nbformat": 4,
  "language_info": {
   "name": "python"
  }
 },
 "nbformat": 4,
 "nbformat_minor": 2
}