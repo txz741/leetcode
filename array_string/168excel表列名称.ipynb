{
 "cells": [
  {
   "cell_type": "code",
   "execution_count": 5,
   "source": [
    "class Solution:\r\n",
    "    def convertToTitle(self, columnNumber: int) -> str:\r\n",
    "        s = ''\r\n",
    "        while columnNumber != 0:\r\n",
    "            columnNumber -= 1\r\n",
    "            s = chr(columnNumber % 26 + 65) + s\r\n",
    "            columnNumber //= 26\r\n",
    "        return s\r\n",
    "\r\n",
    "SS = Solution()\r\n",
    "s = SS.convertToTitle(17602)\r\n",
    "print(s)"
   ],
   "outputs": [
    {
     "output_type": "stream",
     "name": "stdout",
     "text": [
      "YZZ\n"
     ]
    }
   ],
   "metadata": {}
  }
 ],
 "metadata": {
  "orig_nbformat": 4,
  "language_info": {
   "name": "python",
   "version": "3.7.0",
   "mimetype": "text/x-python",
   "codemirror_mode": {
    "name": "ipython",
    "version": 3
   },
   "pygments_lexer": "ipython3",
   "nbconvert_exporter": "python",
   "file_extension": ".py"
  },
  "kernelspec": {
   "name": "python3",
   "display_name": "Python 3.7.0 64-bit ('torch': conda)"
  },
  "interpreter": {
   "hash": "21f885bd0b72b974cc085418a05d0c2978cd3d03e81191fda9f13e429c814bef"
  }
 },
 "nbformat": 4,
 "nbformat_minor": 2
}