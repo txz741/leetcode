{
 "cells": [
  {
   "cell_type": "code",
   "execution_count": 2,
   "source": [
    "from typing import List\r\n",
    "class Solution:\r\n",
    "    def tictactoe(self, moves: List[List[int]]) -> str:\r\n",
    "        ac = {7, 56, 448, 73, 146, 292, 273, 84}\r\n",
    "        a = b = 0\r\n",
    "        length = len(moves)\r\n",
    "        for i in range(length):\r\n",
    "            if i & 1 == 1:  #b\r\n",
    "                b |= 1 << 3 * moves[i][0] + moves[i][1]\r\n",
    "            else:\r\n",
    "                a |= 1 << 3 * moves[i][0] + moves[i][1]\r\n",
    "\r\n",
    "        for x in ac:\r\n",
    "            if a & x == x:\r\n",
    "                return 'A'\r\n",
    "            elif b & x == x:\r\n",
    "                return 'B'\r\n",
    "        return 'Draw' if length == 9 else 'Pending'\r\n",
    "\r\n",
    "SS = Solution()\r\n",
    "res = SS.tictactoe([[0, 0], [2, 0], [1, 1], [2, 1], [2, 2]])\r\n"
   ],
   "outputs": [],
   "metadata": {}
  }
 ],
 "metadata": {
  "orig_nbformat": 4,
  "language_info": {
   "name": "python",
   "version": "3.7.0",
   "mimetype": "text/x-python",
   "codemirror_mode": {
    "name": "ipython",
    "version": 3
   },
   "pygments_lexer": "ipython3",
   "nbconvert_exporter": "python",
   "file_extension": ".py"
  },
  "kernelspec": {
   "name": "python3",
   "display_name": "Python 3.7.0 64-bit ('torch': conda)"
  },
  "interpreter": {
   "hash": "21f885bd0b72b974cc085418a05d0c2978cd3d03e81191fda9f13e429c814bef"
  }
 },
 "nbformat": 4,
 "nbformat_minor": 2
}