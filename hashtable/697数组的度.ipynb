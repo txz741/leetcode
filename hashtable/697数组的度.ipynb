{
 "cells": [
  {
   "cell_type": "code",
   "execution_count": 1,
   "source": [
    "import collections\r\n",
    "from typing import List\r\n",
    "\r\n",
    "\r\n",
    "class Solution:\r\n",
    "    def findShortestSubArray(self, nums: List[int]) -> int:\r\n",
    "        length = len(nums) - 1\r\n",
    "        hashmap = collections.Counter(nums)\r\n",
    "        deg = hashmap[max(hashmap, key=hashmap.get)]\r\n",
    "        res = float('inf')\r\n",
    "        for n in hashmap:\r\n",
    "            if hashmap[n] == deg:\r\n",
    "                l, r = 0, length\r\n",
    "                while nums[l] != n:\r\n",
    "                    l += 1\r\n",
    "                while nums[r] != n:\r\n",
    "                    r -= 1\r\n",
    "                res = min(r - l + 1, res)\r\n",
    "\r\n",
    "        return res\r\n",
    "\r\n",
    "\r\n",
    "SS = Solution()\r\n",
    "res = SS.findShortestSubArray([1])\r\n",
    "print(res)"
   ],
   "outputs": [
    {
     "output_type": "stream",
     "name": "stdout",
     "text": [
      "1\n"
     ]
    }
   ],
   "metadata": {}
  },
  {
   "cell_type": "code",
   "execution_count": 2,
   "source": [
    "class Solution:\r\n",
    "    def findShortestSubArray(self, nums: List[int]) -> int:\r\n",
    "        length = len(nums) - 1\r\n",
    "        hashmap = collections.Counter(nums)\r\n",
    "        deg = hashmap[max(hashmap, key=hashmap.get)]\r\n",
    "        res = float('inf')\r\n",
    "        for i, n in enumerate(nums):\r\n",
    "            if n in hashmap and hashmap[n] == deg:\r\n",
    "                j = length\r\n",
    "                while nums[j] != n:\r\n",
    "                    j -= 1\r\n",
    "                if j >= i:\r\n",
    "                    res = min(res, j - i + 1)\r\n",
    "                hashmap.pop(n)\r\n",
    "\r\n",
    "        return res\r\n",
    "\r\n",
    "\r\n",
    "SS = Solution()\r\n",
    "res = SS.findShortestSubArray([1])\r\n",
    "print(res)"
   ],
   "outputs": [
    {
     "output_type": "stream",
     "name": "stdout",
     "text": [
      "1\n"
     ]
    }
   ],
   "metadata": {}
  },
  {
   "cell_type": "code",
   "execution_count": 3,
   "source": [
    "# 上两种方法速度都太慢，这里提速的方法是hashmap的值存储方式，存的是一个三元数组，分别是出现次数，第一次和最后一层出现的位置。\r\n",
    "# 以空间换时间\r\n",
    "class Solution:\r\n",
    "    def findShortestSubArray(self, nums: List[int]) -> int:\r\n",
    "        mp = dict()\r\n",
    "\r\n",
    "        for i, num in enumerate(nums):\r\n",
    "            if num in mp:\r\n",
    "                mp[num][0] += 1\r\n",
    "                mp[num][2] = i\r\n",
    "            else:\r\n",
    "                mp[num] = [1, i, i]\r\n",
    "\r\n",
    "        maxNum = minLen = 0\r\n",
    "        for count, left, right in mp.values():\r\n",
    "            if maxNum < count:\r\n",
    "                maxNum = count\r\n",
    "                minLen = right - left + 1\r\n",
    "            elif maxNum == count:\r\n",
    "                span = right - left + 1\r\n",
    "                if minLen > span:\r\n",
    "                    minLen = span\r\n",
    "\r\n",
    "        return minLen\r\n",
    "\r\n",
    "\r\n",
    "SS = Solution()\r\n",
    "res = SS.findShortestSubArray([1])\r\n",
    "print(res)"
   ],
   "outputs": [
    {
     "output_type": "stream",
     "name": "stdout",
     "text": [
      "1\n"
     ]
    }
   ],
   "metadata": {}
  }
 ],
 "metadata": {
  "orig_nbformat": 4,
  "language_info": {
   "name": "python",
   "version": "3.7.0",
   "mimetype": "text/x-python",
   "codemirror_mode": {
    "name": "ipython",
    "version": 3
   },
   "pygments_lexer": "ipython3",
   "nbconvert_exporter": "python",
   "file_extension": ".py"
  },
  "kernelspec": {
   "name": "python3",
   "display_name": "Python 3.7.0 64-bit ('torch': conda)"
  },
  "interpreter": {
   "hash": "21f885bd0b72b974cc085418a05d0c2978cd3d03e81191fda9f13e429c814bef"
  }
 },
 "nbformat": 4,
 "nbformat_minor": 2
}