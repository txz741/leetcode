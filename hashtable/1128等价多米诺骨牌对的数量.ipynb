{
 "cells": [
  {
   "cell_type": "code",
   "execution_count": null,
   "source": [
    "from typing import List\r\n",
    "\r\n",
    "# 本题的重点在于如何构建字典。因为字典的键不能是二维数组等格式，所以得找一个等效的表示方法\r\n",
    "# 经测试，x^3+y^3对于x,y\\in[1,9]有唯一表示，所以按此方法构建字典\r\n",
    "class Solution:\r\n",
    "    def numEquivDominoPairs(self, dominoes: List[List[int]]) -> int:\r\n",
    "        hashmap = dict()\r\n",
    "        for d in dominoes:\r\n",
    "            temp = d[0]**3 + d[1]**3\r\n",
    "            if temp in hashmap:\r\n",
    "                hashmap[temp] += 1\r\n",
    "            else:\r\n",
    "                hashmap[temp] = 1\r\n",
    "\r\n",
    "        res = 0\r\n",
    "        for n in hashmap:\r\n",
    "            res += hashmap[n] * (hashmap[n] - 1) / 2\r\n",
    "        return int(res)"
   ],
   "outputs": [],
   "metadata": {}
  },
  {
   "cell_type": "code",
   "execution_count": null,
   "source": [
    "# 官方题解也是这个思路，但有一个更直观的表示方法，就是x,y组成一个两位数，且保证十位数字小于个位数字\r\n",
    "# 还有一个妙点在于num[val] += 1的操作，虽然最终形式仍然是x(x-1)/2就像上面自己写的一样，但这里是随着统计的过程在线更新的，\r\n",
    "# 统计结束立马就能得到结果，相比上面统计完后再计算要更快\r\n",
    "class Solution:\r\n",
    "    def numEquivDominoPairs(self, dominoes: List[List[int]]) -> int:\r\n",
    "        num = [0] * 100\r\n",
    "        ret = 0\r\n",
    "        for x, y in dominoes:\r\n",
    "            val = (x * 10 + y if x <= y else y * 10 + x)\r\n",
    "            ret += num[val]\r\n",
    "            num[val] += 1\r\n",
    "        return ret"
   ],
   "outputs": [],
   "metadata": {}
  }
 ],
 "metadata": {
  "orig_nbformat": 4,
  "language_info": {
   "name": "python"
  }
 },
 "nbformat": 4,
 "nbformat_minor": 2
}