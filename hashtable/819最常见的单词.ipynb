{
 "cells": [
  {
   "cell_type": "code",
   "execution_count": null,
   "source": [
    "import collections\r\n",
    "from typing import List\r\n",
    "class Solution:\r\n",
    "    def mostCommonWord(self, paragraph: str, banned: List[str]) -> str:\r\n",
    "        mylist = []\r\n",
    "        i, length = 0, len(paragraph)\r\n",
    "        while i < length:\r\n",
    "            if paragraph[i].isalpha():\r\n",
    "                if mylist:\r\n",
    "                    mylist[-1] += paragraph[i].lower()\r\n",
    "                else:\r\n",
    "                    mylist.append(paragraph[i].lower())\r\n",
    "            else:\r\n",
    "                while i < length and not paragraph[i].isalpha():\r\n",
    "                    i += 1\r\n",
    "                if i < length:\r\n",
    "                    mylist.append(paragraph[i].lower())\r\n",
    "            i += 1\r\n",
    "\r\n",
    "        hashmap = collections.Counter(mylist)\r\n",
    "        n, res = 0, ''\r\n",
    "        for word in hashmap:\r\n",
    "            if word not in banned:\r\n",
    "                if hashmap[word] > n:\r\n",
    "                    n = hashmap[word]\r\n",
    "                    res = word\r\n",
    "        return res"
   ],
   "outputs": [],
   "metadata": {}
  },
  {
   "cell_type": "code",
   "execution_count": null,
   "source": [
    "# 官方虽然也是这个思路，但是是用的分割字符串的方法，怎么分割的呢？就是列举出所有需要去除的标点，并将其用' '代替，然后.split()就非常方便了\r\n",
    "# 还有一个细节是将banned这个列表转为set, 查找时可以提速\r\n",
    "class Solution(object):\r\n",
    "    def mostCommonWord(self, paragraph, banned):\r\n",
    "        banset = set(banned)\r\n",
    "        for c in \"!?',;.\":\r\n",
    "            paragraph = paragraph.replace(c, \" \")\r\n",
    "        count = collections.Counter(\r\n",
    "            word for word in paragraph.lower().split())\r\n",
    "\r\n",
    "        ans, best = '', 0\r\n",
    "        for word in count:\r\n",
    "            if count[word] > best and word not in banset:\r\n",
    "                ans, best = word, count[word]\r\n",
    "\r\n",
    "        return ans"
   ],
   "outputs": [],
   "metadata": {}
  }
 ],
 "metadata": {
  "orig_nbformat": 4,
  "language_info": {
   "name": "python"
  }
 },
 "nbformat": 4,
 "nbformat_minor": 2
}