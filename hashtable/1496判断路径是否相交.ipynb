{
 "cells": [
  {
   "cell_type": "code",
   "execution_count": null,
   "source": [
    "class Solution:\r\n",
    "    def isPathCrossing(self, path: str) -> bool:\r\n",
    "        x, y = 0, 0\r\n",
    "        hashmap = set()\r\n",
    "        hashmap.add('0_0')\r\n",
    "        for p in path:\r\n",
    "            if p == 'N':\r\n",
    "                y += 1\r\n",
    "            elif p == 'S':\r\n",
    "                y -= 1\r\n",
    "            elif p == 'W':\r\n",
    "                x -= 1\r\n",
    "            elif p == 'E':\r\n",
    "                x += 1\r\n",
    "            temp = str(x) + '_' + str(y)\r\n",
    "            if temp in hashmap:\r\n",
    "                return True\r\n",
    "            hashmap.add(temp)\r\n",
    "        return False"
   ],
   "outputs": [],
   "metadata": {}
  },
  {
   "cell_type": "code",
   "execution_count": null,
   "source": [
    "class Solution:\r\n",
    "    def isPathCrossing(self, path: str) -> bool:\r\n",
    "        dirs = {\r\n",
    "            \"N\": (-1, 0),\r\n",
    "            \"S\": (1, 0),\r\n",
    "            \"W\": (0, -1),\r\n",
    "            \"E\": (0, 1),\r\n",
    "        }\r\n",
    "        \r\n",
    "        x, y = 0, 0\r\n",
    "        vis = set([(x, y)])\r\n",
    "        for ch in path:\r\n",
    "            dx, dy = dirs[ch]\r\n",
    "            x, y = x + dx, y + dy\r\n",
    "            if (x, y) in vis:\r\n",
    "                return True\r\n",
    "            vis.add((x, y))\r\n",
    "\r\n",
    "        return False"
   ],
   "outputs": [],
   "metadata": {}
  }
 ],
 "metadata": {
  "orig_nbformat": 4,
  "language_info": {
   "name": "python"
  }
 },
 "nbformat": 4,
 "nbformat_minor": 2
}