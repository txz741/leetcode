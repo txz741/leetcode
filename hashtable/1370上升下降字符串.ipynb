{
 "cells": [
  {
   "cell_type": "code",
   "execution_count": 1,
   "source": [
    "class Solution:\r\n",
    "    def sortString(self, s: str) -> str:\r\n",
    "        num = [0] * 26\r\n",
    "        for ch in s:\r\n",
    "            num[ord(ch) - ord('a')] += 1\r\n",
    "        \r\n",
    "        ret = list()\r\n",
    "        while len(ret) < len(s):\r\n",
    "            for i in range(26):\r\n",
    "                if num[i]:\r\n",
    "                    ret.append(chr(i + ord('a')))\r\n",
    "                    num[i] -= 1\r\n",
    "            for i in range(25, -1, -1):\r\n",
    "                if num[i]:\r\n",
    "                    ret.append(chr(i + ord('a')))\r\n",
    "                    num[i] -= 1\r\n",
    "\r\n",
    "        return \"\".join(ret)"
   ],
   "outputs": [],
   "metadata": {}
  }
 ],
 "metadata": {
  "orig_nbformat": 4,
  "language_info": {
   "name": "python",
   "version": "3.7.0",
   "mimetype": "text/x-python",
   "codemirror_mode": {
    "name": "ipython",
    "version": 3
   },
   "pygments_lexer": "ipython3",
   "nbconvert_exporter": "python",
   "file_extension": ".py"
  },
  "kernelspec": {
   "name": "python3",
   "display_name": "Python 3.7.0 64-bit ('torch': conda)"
  },
  "interpreter": {
   "hash": "21f885bd0b72b974cc085418a05d0c2978cd3d03e81191fda9f13e429c814bef"
  }
 },
 "nbformat": 4,
 "nbformat_minor": 2
}