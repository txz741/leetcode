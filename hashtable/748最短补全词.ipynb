{
 "cells": [
  {
   "cell_type": "code",
   "execution_count": 1,
   "source": [
    "import collections\r\n",
    "from typing import List\r\n",
    "\r\n",
    "\r\n",
    "class Solution:\r\n",
    "    def shortestCompletingWord(self, licensePlate: str,\r\n",
    "                               words: List[str]) -> str:\r\n",
    "        hashmap1 = dict()\r\n",
    "        for x in licensePlate:\r\n",
    "            if x.isalpha():\r\n",
    "                x = x.lower()\r\n",
    "                if x in hashmap1:\r\n",
    "                    hashmap1[x] += 1\r\n",
    "                else:\r\n",
    "                    hashmap1[x] = 1\r\n",
    "\r\n",
    "        res = max(words, key=len) + 'a'\r\n",
    "\r\n",
    "        for word in words:\r\n",
    "            flag = 0\r\n",
    "            hashmap2 = collections.Counter(word)\r\n",
    "            for x in hashmap1:\r\n",
    "                if x not in hashmap2 or hashmap2[x] < hashmap1[x]:\r\n",
    "                    flag = 1\r\n",
    "                    break\r\n",
    "            if flag == 0 and len(word) < len(res):\r\n",
    "                res = word\r\n",
    "\r\n",
    "        return res\r\n",
    "\r\n",
    "\r\n",
    "SS = Solution()\r\n",
    "a, b = \"iLMOl80\", [\r\n",
    "    \"send\", \"why\", \"want\", \"program\", \"million\", \"wonder\", \"manager\",\r\n",
    "    \"success\", \"likely\", \"them\"\r\n",
    "]\r\n",
    "res = SS.shortestCompletingWord(a, b)\r\n",
    "print(res)\r\n"
   ],
   "outputs": [
    {
     "output_type": "stream",
     "name": "stdout",
     "text": [
      "million\n"
     ]
    }
   ],
   "metadata": {}
  }
 ],
 "metadata": {
  "orig_nbformat": 4,
  "language_info": {
   "name": "python",
   "version": "3.7.0",
   "mimetype": "text/x-python",
   "codemirror_mode": {
    "name": "ipython",
    "version": 3
   },
   "pygments_lexer": "ipython3",
   "nbconvert_exporter": "python",
   "file_extension": ".py"
  },
  "kernelspec": {
   "name": "python3",
   "display_name": "Python 3.7.0 64-bit ('torch': conda)"
  },
  "interpreter": {
   "hash": "21f885bd0b72b974cc085418a05d0c2978cd3d03e81191fda9f13e429c814bef"
  }
 },
 "nbformat": 4,
 "nbformat_minor": 2
}