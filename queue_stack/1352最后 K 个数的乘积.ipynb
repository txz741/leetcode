{
 "cells": [
  {
   "cell_type": "code",
   "execution_count": 8,
   "source": [
    "import collections\r\n",
    "class ProductOfNumbers:\r\n",
    "    def __init__(self):\r\n",
    "        self.q = collections.deque()\r\n",
    "\r\n",
    "    def add(self, num: int) -> None:\r\n",
    "        self.q.append(num)\r\n",
    "\r\n",
    "    def getProduct(self, k: int) -> int:\r\n",
    "        res = self.q[len(self.q) - 1]\r\n",
    "        for i in range(1, k):\r\n",
    "            res *= self.q[len(self.q) - i - 1]\r\n",
    "        return res"
   ],
   "outputs": [],
   "metadata": {}
  },
  {
   "cell_type": "code",
   "execution_count": 12,
   "source": [
    "obj = ProductOfNumbers()\r\n",
    "obj.add(3)\r\n",
    "obj.add(0)\r\n",
    "obj.add(2)\r\n",
    "obj.add(5)\r\n",
    "obj.add(4)\r\n",
    "obj.getProduct(2)\r\n",
    "obj.getProduct(3)\r\n",
    "obj.getProduct(4)\r\n",
    "obj.add(8)\r\n",
    "obj.getProduct(2)"
   ],
   "outputs": [
    {
     "output_type": "execute_result",
     "data": {
      "text/plain": [
       "32"
      ]
     },
     "metadata": {},
     "execution_count": 12
    }
   ],
   "metadata": {}
  },
  {
   "cell_type": "code",
   "execution_count": 7,
   "source": [
    "for i in range(1,1):\r\n",
    "    print(i)"
   ],
   "outputs": [],
   "metadata": {}
  }
 ],
 "metadata": {
  "orig_nbformat": 4,
  "language_info": {
   "name": "python",
   "version": "3.7.0",
   "mimetype": "text/x-python",
   "codemirror_mode": {
    "name": "ipython",
    "version": 3
   },
   "pygments_lexer": "ipython3",
   "nbconvert_exporter": "python",
   "file_extension": ".py"
  },
  "kernelspec": {
   "name": "python3",
   "display_name": "Python 3.7.0 64-bit ('torch': conda)"
  },
  "interpreter": {
   "hash": "21f885bd0b72b974cc085418a05d0c2978cd3d03e81191fda9f13e429c814bef"
  }
 },
 "nbformat": 4,
 "nbformat_minor": 2
}