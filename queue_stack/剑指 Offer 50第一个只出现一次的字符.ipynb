{
 "cells": [
  {
   "cell_type": "code",
   "execution_count": null,
   "source": [
    "# 切记统计数目的时候可以用Counter\r\n",
    "import collections\r\n",
    "class Solution:\r\n",
    "    def firstUniqChar(self, s: str) -> str:\r\n",
    "        # hashmap = dict()\r\n",
    "        # for i in s:\r\n",
    "        #     if i not in hashmap:\r\n",
    "        #         hashmap[i] = 1\r\n",
    "        #     else:\r\n",
    "        #         hashmap[i] += 1\r\n",
    "        hashmap = collections.Counter(s)\r\n",
    "        for k in hashmap:\r\n",
    "            if hashmap[k] == 1:\r\n",
    "                return k\r\n",
    "        return ' '"
   ],
   "outputs": [],
   "metadata": {}
  },
  {
   "cell_type": "code",
   "execution_count": null,
   "source": [
    "# 由于题目归于队列，所以还尝试了添加额外队列来求解。延迟删除技巧。\r\n",
    "# 为什么延迟删除，因为返回的是队列里的第一个元素，所以队列后面的元素是否重复无关紧要\r\n",
    "class Solution:\r\n",
    "    def firstUniqChar(self, s: str) -> str:\r\n",
    "        hashmap = dict()\r\n",
    "        q = collections.deque()\r\n",
    "        for n in s:\r\n",
    "            if n not in hashmap:\r\n",
    "                hashmap[n] = 1\r\n",
    "                q.append(n)\r\n",
    "            else:\r\n",
    "                hashmap[n] = -1\r\n",
    "                while q and hashmap[q[0]] == -1:\r\n",
    "                    q.popleft()\r\n",
    "\r\n",
    "        return q[0] if q else ' '"
   ],
   "outputs": [],
   "metadata": {}
  }
 ],
 "metadata": {
  "orig_nbformat": 4,
  "language_info": {
   "name": "python"
  }
 },
 "nbformat": 4,
 "nbformat_minor": 2
}