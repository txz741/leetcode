{
 "cells": [
  {
   "cell_type": "code",
   "execution_count": 2,
   "source": [
    "from typing import List\r\n",
    "import collections\r\n",
    "\r\n",
    "\r\n",
    "# 构建递减栈，从0号元素递减，接着逆序遍历nums. 合理性在于当前的逆序num已经将栈推到了某个值，\r\n",
    "# 由于是逆序，所以长度会不断减小，如果想继续增大坡长，则必须更多地弹出栈元素。\r\n",
    "# 参考 https://leetcode-cn.com/problems/maximum-width-ramp/solution/zui-da-kuan-du-po-dan-diao-zhan-cun-de-s-myj9/\r\n",
    "class Solution:\r\n",
    "    def maxWidthRamp(self, nums: List[int]) -> int:\r\n",
    "        q = [0]\r\n",
    "        res = 0\r\n",
    "        for i in range(1, len(nums)):\r\n",
    "            if nums[i] < nums[q[-1]]:\r\n",
    "                q.append(i)\r\n",
    "\r\n",
    "        for i in range(len(nums) - 1, 0, -1):\r\n",
    "            while len(q) > 0 and nums[i] >= nums[q[-1]]:\r\n",
    "                res = max(res, i - q.pop())\r\n",
    "\r\n",
    "        return res"
   ],
   "outputs": [],
   "metadata": {}
  },
  {
   "cell_type": "code",
   "execution_count": 1,
   "source": [
    "# 自己写的，这个方法是有问题的，本来是想设计单调栈，构建每个元素的最近的下一个比他大的元素的哈希表，然后通过哈希表的键值链来求\r\n",
    "# 但这是有问题的因为键值链是单调增的，但坡度并不是单调增的\r\n",
    "\r\n",
    "class Solution:\r\n",
    "    def maxWidthRamp(self, nums: List[int]) -> int:\r\n",
    "        q = []\r\n",
    "        hashmap = dict()\r\n",
    "        length = len(nums)\r\n",
    "        for i, num in enumerate(nums):\r\n",
    "            while q and nums[q[-1]] <= num:\r\n",
    "                j = q.pop()\r\n",
    "                hashmap[j] = i\r\n",
    "            q.append(i)\r\n",
    "        for i in q:\r\n",
    "            hashmap[i] = -1\r\n",
    "\r\n",
    "        res = 0\r\n",
    "        for k in hashmap:\r\n",
    "            flag = k\r\n",
    "            while hashmap[k] in hashmap and k != hashmap[k]:\r\n",
    "                k = hashmap[k]\r\n",
    "            else:\r\n",
    "                if k - flag > res:\r\n",
    "                    res = k - flag\r\n",
    "\r\n",
    "        return res\r\n",
    "\r\n",
    "\r\n",
    "SS = Solution()\r\n",
    "res = SS.maxWidthRamp([9, 8, 1, 0, 1, 9, 4, 0, 4, 1])\r\n",
    "print(res)"
   ],
   "outputs": [
    {
     "output_type": "stream",
     "name": "stdout",
     "text": [
      "5\n"
     ]
    }
   ],
   "metadata": {}
  }
 ],
 "metadata": {
  "orig_nbformat": 4,
  "language_info": {
   "name": "python",
   "version": "3.7.0",
   "mimetype": "text/x-python",
   "codemirror_mode": {
    "name": "ipython",
    "version": 3
   },
   "pygments_lexer": "ipython3",
   "nbconvert_exporter": "python",
   "file_extension": ".py"
  },
  "kernelspec": {
   "name": "python3",
   "display_name": "Python 3.7.0 64-bit ('torch': conda)"
  },
  "interpreter": {
   "hash": "21f885bd0b72b974cc085418a05d0c2978cd3d03e81191fda9f13e429c814bef"
  }
 },
 "nbformat": 4,
 "nbformat_minor": 2
}