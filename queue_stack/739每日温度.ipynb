{
 "cells": [
  {
   "cell_type": "code",
   "execution_count": null,
   "source": [
    "import collections\r\n",
    "from typing import List\r\n",
    "\r\n",
    "class Solution:\r\n",
    "    def dailyTemperatures(self, temperatures: List[int]) -> List[int]:\r\n",
    "        s = collections.deque()\r\n",
    "        res = [0] * len(temperatures)\r\n",
    "        for i, t in enumerate(temperatures):\r\n",
    "            while len(s) > 0 and temperatures[s[-1]] < t:\r\n",
    "                res[s[-1]] = i - s[-1]\r\n",
    "                s.pop()\r\n",
    "            s.append(i)\r\n",
    "        return res"
   ],
   "outputs": [],
   "metadata": {}
  }
 ],
 "metadata": {
  "orig_nbformat": 4,
  "language_info": {
   "name": "python"
  }
 },
 "nbformat": 4,
 "nbformat_minor": 2
}