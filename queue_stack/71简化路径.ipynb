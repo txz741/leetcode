{
 "cells": [
  {
   "cell_type": "code",
   "execution_count": 2,
   "source": [
    "# 这是我自己想到的，以'/'为界，每出现一个'/'都对栈中的结果进行判断\r\n",
    "import collections\r\n",
    "\r\n",
    "\r\n",
    "class Solution:\r\n",
    "    def simplifyPath(self, path: str) -> str:\r\n",
    "        path = path + '/' #小细节，以防path的结尾是'..'从而未完全化简\r\n",
    "        s = collections.deque()\r\n",
    "        s.append('/')\r\n",
    "        for p in path[1:]:\r\n",
    "            if p != '/':\r\n",
    "                s.append(p)\r\n",
    "            else:\r\n",
    "                if s[-1] == '.' and s[-2] == '/':  #同级目录\r\n",
    "                    s.pop()\r\n",
    "                elif len(s) > 3 and s[-1] == '.' and s[-2] == '.' and s[-3] == '/':  #上级目录\r\n",
    "                    for i in range(3):\r\n",
    "                        s.pop()\r\n",
    "                    while s[-1] != '/':\r\n",
    "                        s.pop()\r\n",
    "                elif len(s) == 3 and s[-1] == '.' and s[-2] == '.' and s[-3] == '/':  #上级目录\r\n",
    "                    s.pop()\r\n",
    "                    s.pop()\r\n",
    "                elif s[-1] == '/':\r\n",
    "                    pass\r\n",
    "                else:\r\n",
    "                    s.append(p)\r\n",
    "        if s[-1] == '/' and len(s) > 1:\r\n",
    "            s.pop()\r\n",
    "        s = list(s)\r\n",
    "        return ''.join(s)\r\n",
    "\r\n",
    "\r\n",
    "SS = Solution()\r\n",
    "s = SS.simplifyPath('/a//b////c/d//././/..')\r\n",
    "print(s)"
   ],
   "outputs": [
    {
     "output_type": "stream",
     "name": "stdout",
     "text": [
      "/a/b/c\n"
     ]
    }
   ],
   "metadata": {}
  },
  {
   "cell_type": "code",
   "execution_count": 3,
   "source": [
    "# 很妙的做法，用split直接分割'/'而不用再判断了，思路很像但做法优雅\r\n",
    "class Solution:\r\n",
    "    def simplifyPath(self, path: str) -> str:\r\n",
    "        l = path.split('/')\r\n",
    "        res, i = [], 0\r\n",
    "        while i < len(l):\r\n",
    "            if l[i] == '..':\r\n",
    "                if res:\r\n",
    "                    res.pop()\r\n",
    "            elif l[i] != '.' and l[i] != '':\r\n",
    "                res.append(l[i])\r\n",
    "            i += 1\r\n",
    "        return '/' + '/'.join(res)\r\n"
   ],
   "outputs": [],
   "metadata": {}
  }
 ],
 "metadata": {
  "orig_nbformat": 4,
  "language_info": {
   "name": "python",
   "version": "3.7.0",
   "mimetype": "text/x-python",
   "codemirror_mode": {
    "name": "ipython",
    "version": 3
   },
   "pygments_lexer": "ipython3",
   "nbconvert_exporter": "python",
   "file_extension": ".py"
  },
  "kernelspec": {
   "name": "python3",
   "display_name": "Python 3.7.0 64-bit ('torch': conda)"
  },
  "interpreter": {
   "hash": "21f885bd0b72b974cc085418a05d0c2978cd3d03e81191fda9f13e429c814bef"
  }
 },
 "nbformat": 4,
 "nbformat_minor": 2
}