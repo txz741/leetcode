{
 "cells": [
  {
   "cell_type": "code",
   "execution_count": 1,
   "source": [
    "import collections\r\n",
    "class MovingAverage:\r\n",
    "    def __init__(self, size: int):\r\n",
    "        \"\"\"\r\n",
    "        Initialize your data structure here.\r\n",
    "        \"\"\"\r\n",
    "        self.length = size\r\n",
    "        self.queue = collections.deque()\r\n",
    "\r\n",
    "    def next(self, val: int) -> float:\r\n",
    "        self.queue.append(val)\r\n",
    "        width = min(self.length, len(self.queue))\r\n",
    "        res = 0\r\n",
    "        for i in range(len(self.queue) - width, len(self.queue)):\r\n",
    "            res += self.queue[i]\r\n",
    "        return res / width\r\n",
    "\r\n",
    "\r\n",
    "# Your MovingAverage object will be instantiated and called as such:\r\n",
    "# obj = MovingAverage(size)\r\n",
    "# param_1 = obj.next(val)"
   ],
   "outputs": [],
   "metadata": {}
  },
  {
   "cell_type": "code",
   "execution_count": 3,
   "source": [
    "# 用到队列，不过直接popleft掉最开头的元素，且求和时只加最新进来的，从而避免上面最原始的方法队列只进不出且每次都要重新求和\r\n",
    "class MovingAverage:\r\n",
    "    def __init__(self, size: int):\r\n",
    "        \"\"\"\r\n",
    "        Initialize your data structure here.\r\n",
    "        \"\"\"\r\n",
    "        self.length = size\r\n",
    "        self.queue = collections.deque()\r\n",
    "        self.sum = 0\r\n",
    "\r\n",
    "    def next(self, val: int) -> float:\r\n",
    "        self.queue.append(val)\r\n",
    "        self.sum += val\r\n",
    "        if len(self.queue) > self.length:\r\n",
    "            self.sum -= self.queue.popleft()\r\n",
    "        return self.sum / len(self.queue)\r\n",
    "\r\n",
    "\r\n",
    "# Your MovingAverage object will be instantiated and called as such:\r\n",
    "# obj = MovingAverage(size)\r\n",
    "# param_1 = obj.next(val)"
   ],
   "outputs": [],
   "metadata": {}
  }
 ],
 "metadata": {
  "orig_nbformat": 4,
  "language_info": {
   "name": "python",
   "version": "3.7.0",
   "mimetype": "text/x-python",
   "codemirror_mode": {
    "name": "ipython",
    "version": 3
   },
   "pygments_lexer": "ipython3",
   "nbconvert_exporter": "python",
   "file_extension": ".py"
  },
  "kernelspec": {
   "name": "python3",
   "display_name": "Python 3.7.0 64-bit ('torch': conda)"
  },
  "interpreter": {
   "hash": "21f885bd0b72b974cc085418a05d0c2978cd3d03e81191fda9f13e429c814bef"
  }
 },
 "nbformat": 4,
 "nbformat_minor": 2
}