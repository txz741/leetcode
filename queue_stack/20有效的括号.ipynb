{
 "cells": [
  {
   "cell_type": "code",
   "execution_count": 4,
   "source": [
    "import collections\r\n",
    "class Solution:\r\n",
    "    def isValid(self, s: str) -> bool:\r\n",
    "        q = collections.deque()\r\n",
    "        for i in s:\r\n",
    "            if i == '(' or i == '[' or i == '{':\r\n",
    "                q.append(i)\r\n",
    "            else:\r\n",
    "                if not q: # 注意这句是防止出现类似 s = ']'的情况\r\n",
    "                    return False\r\n",
    "                x = q.pop()\r\n",
    "                if x == '(' and i != ')' or x == '[' and i != ']' or x == '{' and i != '}':\r\n",
    "                    return False\r\n",
    "        if q:\r\n",
    "            return False\r\n",
    "        return True\r\n",
    "\r\n",
    "SS = Solution()\r\n",
    "a = SS.isValid('()')\r\n"
   ],
   "outputs": [],
   "metadata": {}
  },
  {
   "cell_type": "code",
   "execution_count": 3,
   "source": [
    "q = collections.deque()\r\n",
    "y = q.pop()"
   ],
   "outputs": [
    {
     "output_type": "error",
     "ename": "IndexError",
     "evalue": "pop from an empty deque",
     "traceback": [
      "\u001b[1;31m---------------------------------------------------------------------------\u001b[0m",
      "\u001b[1;31mIndexError\u001b[0m                                Traceback (most recent call last)",
      "\u001b[1;32m<ipython-input-3-83179f8d3b1e>\u001b[0m in \u001b[0;36m<module>\u001b[1;34m\u001b[0m\n\u001b[0;32m      1\u001b[0m \u001b[0mq\u001b[0m \u001b[1;33m=\u001b[0m \u001b[0mcollections\u001b[0m\u001b[1;33m.\u001b[0m\u001b[0mdeque\u001b[0m\u001b[1;33m(\u001b[0m\u001b[1;33m)\u001b[0m\u001b[1;33m\u001b[0m\u001b[0m\n\u001b[1;32m----> 2\u001b[1;33m \u001b[0my\u001b[0m \u001b[1;33m=\u001b[0m \u001b[0mq\u001b[0m\u001b[1;33m.\u001b[0m\u001b[0mpop\u001b[0m\u001b[1;33m(\u001b[0m\u001b[1;33m)\u001b[0m\u001b[1;33m\u001b[0m\u001b[0m\n\u001b[0m",
      "\u001b[1;31mIndexError\u001b[0m: pop from an empty deque"
     ]
    }
   ],
   "metadata": {}
  }
 ],
 "metadata": {
  "orig_nbformat": 4,
  "language_info": {
   "name": "python",
   "version": "3.7.0",
   "mimetype": "text/x-python",
   "codemirror_mode": {
    "name": "ipython",
    "version": 3
   },
   "pygments_lexer": "ipython3",
   "nbconvert_exporter": "python",
   "file_extension": ".py"
  },
  "kernelspec": {
   "name": "python3",
   "display_name": "Python 3.7.0 64-bit ('torch': conda)"
  },
  "interpreter": {
   "hash": "21f885bd0b72b974cc085418a05d0c2978cd3d03e81191fda9f13e429c814bef"
  }
 },
 "nbformat": 4,
 "nbformat_minor": 2
}