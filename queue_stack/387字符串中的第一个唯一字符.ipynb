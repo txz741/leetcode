{
 "cells": [
  {
   "cell_type": "code",
   "execution_count": 10,
   "source": [
    "# 用到列表，很占内存\r\n",
    "class Solution:\r\n",
    "    def firstUniqChar(self, s: str) -> int:\r\n",
    "        mydict = dict()\r\n",
    "        for i, n in enumerate(s):\r\n",
    "            if not n in mydict:\r\n",
    "                mydict[n] = []\r\n",
    "            mydict[n].append(i)\r\n",
    "\r\n",
    "        mylist = []\r\n",
    "        for n in mydict:\r\n",
    "            if len(mydict[n]) == 1:\r\n",
    "                mylist.append(mydict[n][0])\r\n",
    "        return min(mylist) if len(mylist) > 0 else -1\r\n"
   ],
   "outputs": [],
   "metadata": {}
  },
  {
   "cell_type": "code",
   "execution_count": 14,
   "source": [
    "from collections import Counter\r\n",
    "\r\n",
    "cnt = Counter()\r\n",
    "for s in ['a', 'b', 'b', 'd', 'c','b', 'd', 'd', 'c', 'c', 'c']:\r\n",
    "    cnt[s] += 1\r\n",
    "    \r\n",
    "cnt"
   ],
   "outputs": [
    {
     "output_type": "execute_result",
     "data": {
      "text/plain": [
       "Counter({'a': 1, 'b': 3, 'd': 3, 'c': 4})"
      ]
     },
     "metadata": {},
     "execution_count": 14
    }
   ],
   "metadata": {}
  },
  {
   "cell_type": "code",
   "execution_count": 27,
   "source": [
    "mydict = {'a': 1, 'b': 2}\r\n",
    "\r\n",
    "mydict.get('c', 'none')"
   ],
   "outputs": [
    {
     "output_type": "execute_result",
     "data": {
      "text/plain": [
       "'none'"
      ]
     },
     "metadata": {},
     "execution_count": 27
    }
   ],
   "metadata": {}
  },
  {
   "cell_type": "code",
   "execution_count": 28,
   "source": [
    "# 用Counter类来实现，Counter类类似于dict, 但是有顺序存储的功能\r\n",
    "import collections\r\n",
    "class Solution:\r\n",
    "    def firstUniqChar(self, s: str) -> int:\r\n",
    "        cnt = collections.Counter(s)\r\n",
    "        for i, n in enumerate(s):\r\n",
    "            if cnt[n] == 1:\r\n",
    "                return i\r\n",
    "        return -1\r\n",
    "\r\n",
    "SS = Solution()\r\n",
    "index = SS.firstUniqChar('loveleetcode')\r\n",
    "index"
   ],
   "outputs": [
    {
     "output_type": "execute_result",
     "data": {
      "text/plain": [
       "2"
      ]
     },
     "metadata": {},
     "execution_count": 28
    }
   ],
   "metadata": {}
  },
  {
   "cell_type": "code",
   "execution_count": 29,
   "source": [
    "# 由于是队列里的题，所以这里还是用队列的方法实现一下，感觉还是不如用Counter这种有序字典好\r\n",
    "class Solution:\r\n",
    "    def firstUniqChar(self, s: str) -> int:\r\n",
    "        mydict = dict()\r\n",
    "        q = collections.deque()\r\n",
    "        for i, n in enumerate(s):\r\n",
    "            if n not in mydict:\r\n",
    "                mydict[n] = i\r\n",
    "                q.append((s[i], i))\r\n",
    "            else:\r\n",
    "                mydict[n] = -1\r\n",
    "                while q and mydict[q[0][0]] == -1:\r\n",
    "                    q.popleft()\r\n",
    "\r\n",
    "        return -1 if not q else q[0][1]\r\n",
    "\r\n",
    "\r\n",
    "SS = Solution()\r\n",
    "index = SS.firstUniqChar('loveleetcode')\r\n",
    "index"
   ],
   "outputs": [
    {
     "output_type": "execute_result",
     "data": {
      "text/plain": [
       "2"
      ]
     },
     "metadata": {},
     "execution_count": 29
    }
   ],
   "metadata": {}
  },
  {
   "cell_type": "code",
   "execution_count": 8,
   "source": [
    "from collections import Counter\r\n",
    "s = [0, 1, 1, 1, 0, 1, 1, 0, 0, 0, 1, 2]\r\n",
    "cnt = Counter()\r\n",
    "for i in s:\r\n",
    "    cnt[i] += 1\r\n",
    "\r\n",
    "cnt[0]"
   ],
   "outputs": [
    {
     "output_type": "execute_result",
     "data": {
      "text/plain": [
       "5"
      ]
     },
     "metadata": {},
     "execution_count": 8
    }
   ],
   "metadata": {}
  },
  {
   "cell_type": "code",
   "execution_count": null,
   "source": [
    "# 上面有误，Counter好像并没有顺序功能，这里取消了最上面的基础实现的值为列表的字典，模拟了Counter的用法，从而取消了最上面的列表索引\r\n",
    "# 2021.9.13更新，注意和Offer50是一样的，Counter和dict在python3.6后都有顺序存储的功能\r\n",
    "class Solution:\r\n",
    "    def firstUniqChar(self, s: str) -> int:\r\n",
    "        mydict = dict()\r\n",
    "        for i, n in enumerate(s):\r\n",
    "            if not n in mydict:\r\n",
    "                mydict[n] = 1\r\n",
    "            else:\r\n",
    "                mydict[n] += 1\r\n",
    "\r\n",
    "        for i, n in enumerate(s):\r\n",
    "            if mydict[n] == 1:\r\n",
    "                return i\r\n",
    "        return -1"
   ],
   "outputs": [],
   "metadata": {}
  }
 ],
 "metadata": {
  "orig_nbformat": 4,
  "language_info": {
   "name": "python",
   "version": "3.7.0",
   "mimetype": "text/x-python",
   "codemirror_mode": {
    "name": "ipython",
    "version": 3
   },
   "pygments_lexer": "ipython3",
   "nbconvert_exporter": "python",
   "file_extension": ".py"
  },
  "kernelspec": {
   "name": "python3",
   "display_name": "Python 3.7.0 64-bit ('torch': conda)"
  },
  "interpreter": {
   "hash": "21f885bd0b72b974cc085418a05d0c2978cd3d03e81191fda9f13e429c814bef"
  }
 },
 "nbformat": 4,
 "nbformat_minor": 2
}