{
 "cells": [
  {
   "cell_type": "code",
   "execution_count": 6,
   "source": [
    "from typing import List\r\n",
    "import collections\r\n",
    "\r\n",
    "# 一眼看出是单调栈的问题，但太菜了而且墨守成规，仍然构建了哈希表。\r\n",
    "# 但和496题不同的是，这里的列表包含重复元素，那如何避免重复元素带来的覆盖呢？\r\n",
    "# 字典的key是不能用列表的，所以只能将索引加载value中，这样仍然可能不可避免地造成覆盖，或者很麻烦\r\n",
    "# 所以hashmap的value是构建了queue, 如果遇到重复元素就在对应的queue后append\r\n",
    "# 检索时如果检索到一次key, 就将对应的value出队一个\r\n",
    "class Solution:\r\n",
    "    def finalPrices(self, prices: List[int]) -> List[int]:\r\n",
    "        s = collections.deque()\r\n",
    "        hashmap = dict()\r\n",
    "        for p in prices:\r\n",
    "            while len(s) > 0 and s[-1] >= p:\r\n",
    "                if s[-1] in hashmap: # 注意这里是s[-1]而不是p, 因为放进hashmap中的是栈s弹出来的元素而不是正在处理的元素\r\n",
    "                    hashmap[s.pop()].append(p)\r\n",
    "                else:\r\n",
    "                    temp = collections.deque()\r\n",
    "                    temp.append(p)\r\n",
    "                    hashmap[s.pop()] = temp\r\n",
    "            s.append(p)\r\n",
    "\r\n",
    "        res = []\r\n",
    "        for p in prices:\r\n",
    "            if p in hashmap and len(hashmap[p]) > 0:\r\n",
    "                res.append(p - hashmap[p][0])\r\n",
    "                hashmap[p].popleft()\r\n",
    "            else:\r\n",
    "                res.append(p)\r\n",
    "\r\n",
    "        return res\r\n",
    "\r\n",
    "\r\n",
    "SS = Solution()\r\n",
    "res = SS.finalPrices([8, 7, 4, 2, 8, 1])\r\n",
    "print(res)"
   ],
   "outputs": [
    {
     "output_type": "stream",
     "name": "stdout",
     "text": [
      "[1, 3, 2, 1, 7, 1]\n"
     ]
    }
   ],
   "metadata": {}
  },
  {
   "cell_type": "code",
   "execution_count": 7,
   "source": [
    "# 这里的操作就是直接对res操作了，先深拷贝一个列表，单调栈存储的是对应元素的位置，而且不需要hashmap\r\n",
    "class Solution:\r\n",
    "    def finalPrices(self, prices: List[int]) -> List[int]:\r\n",
    "        s = collections.deque()\r\n",
    "        res = prices.copy()\r\n",
    "        for i, p in enumerate(prices):\r\n",
    "            while len(s) > 0 and prices[s[-1]] >= p:\r\n",
    "                res[s[-1]] = prices[s[-1]] - p\r\n",
    "                s.pop()\r\n",
    "            s.append(i)\r\n",
    "        return res\r\n",
    "\r\n",
    "\r\n",
    "SS = Solution()\r\n",
    "res = SS.finalPrices([8, 7, 4, 2, 8, 1])\r\n",
    "print(res)"
   ],
   "outputs": [
    {
     "output_type": "stream",
     "name": "stdout",
     "text": [
      "[1, 3, 2, 1, 7, 1]\n"
     ]
    }
   ],
   "metadata": {}
  }
 ],
 "metadata": {
  "orig_nbformat": 4,
  "language_info": {
   "name": "python",
   "version": "3.7.0",
   "mimetype": "text/x-python",
   "codemirror_mode": {
    "name": "ipython",
    "version": 3
   },
   "pygments_lexer": "ipython3",
   "nbconvert_exporter": "python",
   "file_extension": ".py"
  },
  "kernelspec": {
   "name": "python3",
   "display_name": "Python 3.7.0 64-bit ('torch': conda)"
  },
  "interpreter": {
   "hash": "21f885bd0b72b974cc085418a05d0c2978cd3d03e81191fda9f13e429c814bef"
  }
 },
 "nbformat": 4,
 "nbformat_minor": 2
}