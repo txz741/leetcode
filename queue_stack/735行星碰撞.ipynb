{
 "cells": [
  {
   "cell_type": "code",
   "execution_count": 1,
   "source": [
    "# 原始做法，先把前面所有负的存进去，直到遇见正的\r\n",
    "from typing import List\r\n",
    "import collections\r\n",
    "\r\n",
    "\r\n",
    "class Solution:\r\n",
    "    def asteroidCollision(self, asteroids: List[int]) -> List[int]:\r\n",
    "        s = []\r\n",
    "        index = 0\r\n",
    "        flag = 0\r\n",
    "        length = len(asteroids)\r\n",
    "        while index < length and asteroids[index] < 0:\r\n",
    "            s.append(asteroids[index])\r\n",
    "            index += 1\r\n",
    "        if index == length:\r\n",
    "            return asteroids\r\n",
    "\r\n",
    "        for i in range(index, length):\r\n",
    "            if asteroids[i] > 0:\r\n",
    "                s.append(asteroids[i])\r\n",
    "            else:\r\n",
    "                while len(s) > 0 and s[-1] > 0 and s[-1] <= abs(\r\n",
    "                        asteroids[i]):  # 栈顶是正的就开创\r\n",
    "                    # x = s.pop()\r\n",
    "                    if s.pop() == abs(asteroids[i]):  # 同归\r\n",
    "                        flag = 1\r\n",
    "                        break\r\n",
    "                if (len(s) == 0\r\n",
    "                        or s[-1] < 0) and flag != 1:  # 判定跳出while的条件 全创完了或栈顶是负的\r\n",
    "                    s.append(asteroids[i])\r\n",
    "                else:  # 新来的没创得过\r\n",
    "                    pass\r\n",
    "                flag = 0\r\n",
    "        return s\r\n",
    "\r\n",
    "\r\n",
    "SS = Solution()\r\n",
    "res = SS.asteroidCollision([8, -8])\r\n",
    "print(res)"
   ],
   "outputs": [
    {
     "output_type": "stream",
     "name": "stdout",
     "text": [
      "[]\n"
     ]
    }
   ],
   "metadata": {}
  },
  {
   "cell_type": "code",
   "execution_count": 3,
   "source": [
    "# 不用存负的\r\n",
    "class Solution:\r\n",
    "    def asteroidCollision(self, asteroids: List[int]) -> List[int]:\r\n",
    "        s = []\r\n",
    "        flag = 0\r\n",
    "        for a in asteroids:\r\n",
    "            if len(s) == 0:\r\n",
    "                s.append(a)\r\n",
    "            else:\r\n",
    "                if s[-1] < 0 or s[-1] > 0 and a > 0:  # 顶负或者顶和新来都是正\r\n",
    "                    s.append(a)\r\n",
    "                else:  # 顶正来负\r\n",
    "                    if s[-1] > abs(a):\r\n",
    "                        pass\r\n",
    "                    else:\r\n",
    "                        while len(s) > 0 and s[-1] > 0 and s[-1] <= abs(a):\r\n",
    "                            if s.pop() == abs(a):\r\n",
    "                                flag = 1\r\n",
    "                                break\r\n",
    "                        if (len(s) == 0 or s[-1] < 0) and flag != 1:\r\n",
    "                            s.append(a)\r\n",
    "                        flag = 0\r\n",
    "\r\n",
    "        return s\r\n",
    "\r\n",
    "SS = Solution()\r\n",
    "res = SS.asteroidCollision([8, -8])\r\n",
    "print(res)"
   ],
   "outputs": [
    {
     "output_type": "stream",
     "name": "stdout",
     "text": [
      "[]\n"
     ]
    }
   ],
   "metadata": {}
  },
  {
   "cell_type": "code",
   "execution_count": null,
   "source": [
    "# 思路一样，但分开了<=,避免了使用flag\r\n",
    "class Solution(object):\r\n",
    "    def asteroidCollision(self, asteroids):\r\n",
    "        ans = []\r\n",
    "        for new in asteroids:\r\n",
    "            while ans and new < 0 < ans[-1]:\r\n",
    "                if ans[-1] < -new:\r\n",
    "                    ans.pop()\r\n",
    "                    continue\r\n",
    "                elif ans[-1] == -new:\r\n",
    "                    ans.pop()\r\n",
    "                break # 注意这个很妙的break, 就是说相等或者栈顶比新来的大的话需要break, 也就是非正常退出，是不会执行else的append的操作的\r\n",
    "            else:\r\n",
    "                ans.append(new)\r\n",
    "        return ans\r\n"
   ],
   "outputs": [],
   "metadata": {}
  }
 ],
 "metadata": {
  "orig_nbformat": 4,
  "language_info": {
   "name": "python",
   "version": "3.7.0",
   "mimetype": "text/x-python",
   "codemirror_mode": {
    "name": "ipython",
    "version": 3
   },
   "pygments_lexer": "ipython3",
   "nbconvert_exporter": "python",
   "file_extension": ".py"
  },
  "kernelspec": {
   "name": "python3",
   "display_name": "Python 3.7.0 64-bit ('torch': conda)"
  },
  "interpreter": {
   "hash": "21f885bd0b72b974cc085418a05d0c2978cd3d03e81191fda9f13e429c814bef"
  }
 },
 "nbformat": 4,
 "nbformat_minor": 2
}